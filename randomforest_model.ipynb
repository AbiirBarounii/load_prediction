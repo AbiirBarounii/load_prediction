{
  "nbformat": 4,
  "nbformat_minor": 0,
  "metadata": {
    "colab": {
      "provenance": []
    },
    "kernelspec": {
      "name": "python3",
      "display_name": "Python 3"
    },
    "language_info": {
      "name": "python"
    }
  },
  "cells": [
    {
      "cell_type": "code",
      "execution_count": 3,
      "metadata": {
        "colab": {
          "base_uri": "https://localhost:8080/"
        },
        "id": "TWI7SdXWcXBN",
        "outputId": "e8aa0519-4d61-4420-d017-5cc6ddf891c5"
      },
      "outputs": [
        {
          "output_type": "stream",
          "name": "stderr",
          "text": [
            "<ipython-input-3-86e7aaeb380a>:17: SettingWithCopyWarning: \n",
            "A value is trying to be set on a copy of a slice from a DataFrame.\n",
            "Try using .loc[row_indexer,col_indexer] = value instead\n",
            "\n",
            "See the caveats in the documentation: https://pandas.pydata.org/pandas-docs/stable/user_guide/indexing.html#returning-a-view-versus-a-copy\n",
            "  train_df['Month'] = train_df['Date'].dt.month\n"
          ]
        },
        {
          "output_type": "stream",
          "name": "stdout",
          "text": [
            "           Date    Predicted       Actual\n",
            "0    2018-01-01  1143.681395  1135.467429\n",
            "1    2018-01-02  1154.123259  1146.465108\n",
            "2    2018-01-03  1197.390759  1205.179523\n",
            "3    2018-01-04  1167.188051  1176.202886\n",
            "4    2018-01-05  1252.783513  1262.161566\n",
            "...         ...          ...          ...\n",
            "1072 2020-12-08  1055.872243  1057.539311\n",
            "1073 2020-12-09  1065.285620  1065.345528\n",
            "1074 2020-12-10  1061.225156  1061.649506\n",
            "1075 2020-12-11  1070.180122  1079.251913\n",
            "1076 2020-12-12  1118.315351  1055.653683\n",
            "\n",
            "[1077 rows x 3 columns]\n",
            "Predicted Load : [1144.22912203]\n"
          ]
        },
        {
          "output_type": "stream",
          "name": "stderr",
          "text": [
            "/usr/local/lib/python3.9/dist-packages/sklearn/base.py:439: UserWarning: X does not have valid feature names, but RandomForestRegressor was fitted with feature names\n",
            "  warnings.warn(\n"
          ]
        }
      ],
      "source": [
        "import pandas as pd\n",
        "import numpy as np\n",
        "from sklearn.preprocessing import StandardScaler\n",
        "from sklearn.ensemble import RandomForestRegressor\n",
        "\n",
        "# Load the dataset\n",
        "df = pd.read_excel('/content/drive/MyDrive/dataset/Clean data 2.xlsx')\n",
        "\n",
        "# Convert date column to datetime format\n",
        "df['Date'] = pd.to_datetime(df['Date'])\n",
        "\n",
        "# Split the dataset into training and testing sets\n",
        "train_df = df[df['Date'] < '2020-12-12 ']\n",
        "test_df = df[df['Date'] >= '2018-01-01']\n",
        "\n",
        "# Extract month from Date column and include it as a feature\n",
        "train_df['Month'] = train_df['Date'].dt.month\n",
        "test_df['Month'] = test_df['Date'].dt.month\n",
        "\n",
        "# Define the features and target variable\n",
        "features = ['Month', 'Average of temperature', 'Average of cloud_cover', 'Average of dew_point', 'Average of wind_speed', 'Average of humidity', 'Average of apparent_temperature']\n",
        "target = 'Average of load'\n",
        "\n",
        "# Split the features and target variable for training and testing sets\n",
        "X_train, y_train = train_df[features], train_df[target]\n",
        "X_test, y_test = test_df[features], test_df[target]\n",
        "\n",
        "# Train the model\n",
        "model = RandomForestRegressor(n_estimators=1000, max_depth=100, random_state=42)\n",
        "model.fit(X_train, y_train)\n",
        "\n",
        "# Make predictions\n",
        "y_pred = model.predict(X_test)\n",
        "\n",
        "# Print the predictions and actual values\n",
        "results_df = pd.DataFrame({'Date': test_df['Date'], 'Predicted': y_pred, 'Actual': y_test})\n",
        "print(results_df)\n",
        "\n",
        "# Make a prediction for a given climatic condition\n",
        "prediction = model.predict(np.array([[1, 13, 0.00041, 9.68, 0.68, 0.88,13]]))\n",
        "print(\"Predicted Load :\", prediction)"
      ]
    },
    {
      "cell_type": "code",
      "source": [
        "import pickle"
      ],
      "metadata": {
        "id": "ldAeb9xCd6_r"
      },
      "execution_count": 1,
      "outputs": []
    },
    {
      "cell_type": "code",
      "source": [
        "pickle.dump(model,open('regmodel.pkl','wb'))"
      ],
      "metadata": {
        "id": "n4DcpHQBeAct"
      },
      "execution_count": 4,
      "outputs": []
    },
    {
      "cell_type": "code",
      "source": [
        "pickled_model=pickle.load(open('regmodel.pkl','rb'))"
      ],
      "metadata": {
        "id": "umdl2Jo8ebgj"
      },
      "execution_count": 7,
      "outputs": []
    },
    {
      "cell_type": "code",
      "source": [
        "pickled_model.predict(np.array([[1, 13, 0.00041, 9.68, 0.68, 0.88,13]]))"
      ],
      "metadata": {
        "colab": {
          "base_uri": "https://localhost:8080/"
        },
        "id": "Zz2_o0g7fVNO",
        "outputId": "15fc2b7b-220c-45e3-fb20-05ce1da8a18d"
      },
      "execution_count": 10,
      "outputs": [
        {
          "output_type": "stream",
          "name": "stderr",
          "text": [
            "/usr/local/lib/python3.9/dist-packages/sklearn/base.py:439: UserWarning: X does not have valid feature names, but RandomForestRegressor was fitted with feature names\n",
            "  warnings.warn(\n"
          ]
        },
        {
          "output_type": "execute_result",
          "data": {
            "text/plain": [
              "array([1144.22912203])"
            ]
          },
          "metadata": {},
          "execution_count": 10
        }
      ]
    }
  ]
}